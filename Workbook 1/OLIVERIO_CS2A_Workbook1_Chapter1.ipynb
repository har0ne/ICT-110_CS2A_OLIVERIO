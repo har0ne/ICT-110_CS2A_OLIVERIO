{
  "nbformat": 4,
  "nbformat_minor": 0,
  "metadata": {
    "colab": {
      "provenance": []
    },
    "kernelspec": {
      "name": "python3",
      "display_name": "Python 3"
    },
    "language_info": {
      "name": "python"
    }
  },
  "cells": [
    {
      "cell_type": "markdown",
      "metadata": {
        "id": "r9WSaxgHe3q8"
      },
      "source": [
        "#### Exercise 1\n",
        "\n",
        "Each line of code below contains an error. Fix the error and explain in a comment the reason for the error."
      ]
    },
    {
      "cell_type": "code",
      "execution_count": null,
      "metadata": {
        "id": "ewf34EkOe3q9"
      },
      "outputs": [],
      "source": [
        "print('Hello world!')\n",
        "#Case sensitivity"
      ]
    },
    {
      "cell_type": "code",
      "execution_count": null,
      "metadata": {
        "id": "gHjCAGKOe3q9"
      },
      "outputs": [],
      "source": [
        "print('Hello world!')\n",
        "#Missing Open Parenthesis"
      ]
    },
    {
      "cell_type": "code",
      "execution_count": null,
      "metadata": {
        "id": "UzgJ21hoe3q9"
      },
      "outputs": [],
      "source": [
        "print('Hello world!')\n",
        "#The string was missing its closing single quotation mark"
      ]
    },
    {
      "cell_type": "code",
      "execution_count": null,
      "metadata": {
        "id": "fCPXblLre3q9"
      },
      "outputs": [],
      "source": [
        "print('Hello world!')\n",
        "#Presence of an extra ending quotation mark. Each opening quotation mark should have a closing. In this instance, the extra quotation mark is unnecessary"
      ]
    },
    {
      "cell_type": "markdown",
      "metadata": {
        "id": "J6VDpIK-e3q9"
      },
      "source": [
        "#### Exercise 2\n",
        "What is the output of the code below? [PEW]"
      ]
    },
    {
      "cell_type": "code",
      "execution_count": null,
      "metadata": {
        "id": "g1KKu-i1e3q9",
        "colab": {
          "base_uri": "https://localhost:8080/"
        },
        "outputId": "b3ee5e41-c261-4518-a09c-db8c746ab0b0"
      },
      "outputs": [
        {
          "output_type": "stream",
          "name": "stdout",
          "text": [
            "44\n"
          ]
        }
      ],
      "source": [
        "x = 43\n",
        "x = x + 1\n",
        "print(x)\n",
        "#Since we initialized the value of 43 to 'x', then in the next line x is reassigned making it (43)+1 then assigns the result back to 'x'. Therefore, the output of this code is 44"
      ]
    },
    {
      "cell_type": "markdown",
      "metadata": {
        "id": "1IADShEEe3q9"
      },
      "source": [
        "#### Exercise 3\n",
        "The code below contains an error. Fix the error and explain in a comment the reason for the error."
      ]
    },
    {
      "cell_type": "code",
      "execution_count": null,
      "metadata": {
        "id": "N8h0sGX1e3q9",
        "colab": {
          "base_uri": "https://localhost:8080/"
        },
        "outputId": "5425ba7c-019c-4f7f-ade5-d3faff0de12a"
      },
      "outputs": [
        {
          "output_type": "stream",
          "name": "stdout",
          "text": [
            "44\n"
          ]
        }
      ],
      "source": [
        "x = 43\n",
        "x = x + 1\n",
        "print(x)\n",
        "#The error was an uppercase X, this is because python is case sensitive, and this means that 'x' is different from 'X' making it so that 'X' is undefined in this code."
      ]
    }
  ]
}