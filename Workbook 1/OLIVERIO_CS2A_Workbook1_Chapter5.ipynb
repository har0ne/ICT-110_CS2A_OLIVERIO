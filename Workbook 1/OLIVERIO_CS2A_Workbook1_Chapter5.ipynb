{
  "nbformat": 4,
  "nbformat_minor": 0,
  "metadata": {
    "colab": {
      "provenance": []
    },
    "kernelspec": {
      "name": "python3",
      "display_name": "Python 3"
    },
    "language_info": {
      "name": "python"
    }
  },
  "cells": [
    {
      "cell_type": "markdown",
      "metadata": {
        "id": "lMymMvrve3rQ"
      },
      "source": [
        "## EXERCISES"
      ]
    },
    {
      "cell_type": "markdown",
      "metadata": {
        "id": "WrWqQhdue3rQ"
      },
      "source": [
        "#### Exercise 1"
      ]
    },
    {
      "cell_type": "markdown",
      "source": [
        "Investigate on the difference between `is` and `==` given the following variables.\n",
        "```python\n",
        "a = 2\n",
        "b = 2.0\n",
        "c = a\n",
        "```"
      ],
      "metadata": {
        "id": "JkkxmMpoe3rQ"
      }
    },
    {
      "cell_type": "code",
      "source": [
        "a = 2\n",
        "b = 2.0\n",
        "c = a\n",
        "\n",
        "print(a == b)  # True (values are equal)\n",
        "print(a == c)  # True (values are equal)\n",
        "\n",
        "\n",
        "print(a is b)  # False (objects are not the same)\n",
        "print(a is c)  # True (objects are the same)"
      ],
      "metadata": {
        "colab": {
          "base_uri": "https://localhost:8080/"
        },
        "id": "18Y8ngjCyB9l",
        "outputId": "c6f443ed-0d31-44b8-ee88-83d718c8c021"
      },
      "execution_count": null,
      "outputs": [
        {
          "output_type": "stream",
          "name": "stdout",
          "text": [
            "True\n",
            "True\n",
            "False\n",
            "True\n"
          ]
        }
      ]
    },
    {
      "cell_type": "markdown",
      "metadata": {
        "id": "HnR5qgaHe3rQ"
      },
      "source": [
        "## CHALLENGES"
      ]
    },
    {
      "cell_type": "markdown",
      "metadata": {
        "id": "Ae2HErw9e3rQ"
      },
      "source": [
        "#### Challenge 1"
      ]
    },
    {
      "cell_type": "markdown",
      "metadata": {
        "id": "0pmOvKife3rQ"
      },
      "source": [
        "Write a program which repeatedly reads numbers until the user enters \"done\". Once \"done\" is entered, print out the total, count, and average of the numbers. If the user enters anything other than a number, detect their mistake using try and except and print an error message and skip to the next number.\n",
        "\n",
        "    Enter a number: 4\n",
        "    Enter a number: 5\n",
        "    Enter a number: bad data\n",
        "    Invalid input\n",
        "    Enter a number: 7\n",
        "    Enter a number: done\n",
        "    16 3 5.333333333333333\n",
        "    \n",
        "[PEW] E5.1"
      ]
    },
    {
      "cell_type": "code",
      "source": [
        "total = 0\n",
        "count = 0\n",
        "\n",
        "while True:\n",
        "    num_input = input(\"Enter a number: \")\n",
        "    if num_input == 'done':\n",
        "        break\n",
        "\n",
        "    if num_input.isdigit():\n",
        "        num = int(num_input)\n",
        "        total += num\n",
        "        count += 1\n",
        "    else:\n",
        "        print(\"Invalid input\")\n",
        "\n",
        "if count:\n",
        "    print(total, count, total / count)"
      ],
      "metadata": {
        "colab": {
          "base_uri": "https://localhost:8080/"
        },
        "id": "-m8JV29ayg9R",
        "outputId": "6eda31fb-1fac-41cc-83f2-9fdf7b7da22f"
      },
      "execution_count": 5,
      "outputs": [
        {
          "output_type": "stream",
          "name": "stdout",
          "text": [
            "Enter a number: 4\n",
            "Enter a number: 5\n",
            "Enter a number: bad data\n",
            "Invalid input\n",
            "Enter a number: 7\n",
            "Enter a number: done\n",
            "16 3 5.333333333333333\n"
          ]
        }
      ]
    },
    {
      "cell_type": "markdown",
      "metadata": {
        "id": "ts7aZrXte3rQ"
      },
      "source": [
        "#### Challenge 2  "
      ]
    },
    {
      "cell_type": "markdown",
      "metadata": {
        "id": "GiUa3gnoe3rQ"
      },
      "source": [
        "Write another program that prompts for a list of numbers as above and at the end prints out both the maximum and minimum of the numbers instead of the average.\n",
        "\n",
        "[PEW] E5.2"
      ]
    },
    {
      "cell_type": "code",
      "source": [
        "max_num = None\n",
        "min_num = None\n",
        "\n",
        "while True:\n",
        "    num_input = input(\"Enter a number: \")\n",
        "    if num_input == 'done':\n",
        "        break\n",
        "\n",
        "    if num_input.isdigit():\n",
        "        num = int(num_input)\n",
        "        if max_num is None or num > max_num:\n",
        "            max_num = num\n",
        "        if min_num is None or num < min_num:\n",
        "            min_num = num\n",
        "    else:\n",
        "        print(\"Invalid input\")\n",
        "\n",
        "if max_num is not None and min_num is not None:\n",
        "    print(\"Maximum:\", max_num)\n",
        "    print(\"Minimum:\", min_num)"
      ],
      "metadata": {
        "id": "psp-MWeUyweR",
        "outputId": "72999892-c4e4-41b8-d1c4-f60fe4ea8e1b",
        "colab": {
          "base_uri": "https://localhost:8080/"
        }
      },
      "execution_count": 7,
      "outputs": [
        {
          "output_type": "stream",
          "name": "stdout",
          "text": [
            "Enter a number: 4\n",
            "Enter a number: 5\n",
            "Enter a number: bad data\n",
            "Invalid input\n",
            "Enter a number: 7\n",
            "Enter a number: done\n",
            "Maximum: 7\n",
            "Minimum: 4\n"
          ]
        }
      ]
    }
  ]
}