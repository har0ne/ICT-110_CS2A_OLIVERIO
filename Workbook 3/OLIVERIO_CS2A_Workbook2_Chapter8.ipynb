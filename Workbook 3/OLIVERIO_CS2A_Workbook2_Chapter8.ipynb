{
  "nbformat": 4,
  "nbformat_minor": 0,
  "metadata": {
    "colab": {
      "provenance": []
    },
    "kernelspec": {
      "name": "python3",
      "display_name": "Python 3"
    },
    "language_info": {
      "name": "python"
    }
  },
  "cells": [
    {
      "cell_type": "markdown",
      "metadata": {
        "id": "8X1WUSNELosL"
      },
      "source": [
        "## EXERCISES"
      ]
    },
    {
      "cell_type": "markdown",
      "metadata": {
        "id": "rvY463w0LosL"
      },
      "source": [
        "#### Exercise 1\n",
        "\n",
        "Create an empty list then add the following numbers using `append`: 4, 6 9."
      ]
    },
    {
      "cell_type": "code",
      "source": [
        "my_list = []\n",
        "\n",
        "my_list.append(4)\n",
        "my_list.append(6)\n",
        "my_list.append(9)\n",
        "\n",
        "print(my_list)"
      ],
      "metadata": {
        "colab": {
          "base_uri": "https://localhost:8080/"
        },
        "id": "YBJm_ywuPebP",
        "outputId": "63ed0686-0148-42a7-910b-e2456e1a0839"
      },
      "execution_count": 1,
      "outputs": [
        {
          "output_type": "stream",
          "name": "stdout",
          "text": [
            "[4, 6, 9]\n"
          ]
        }
      ]
    },
    {
      "cell_type": "markdown",
      "metadata": {
        "id": "nTBcaussLosL"
      },
      "source": [
        "#### Exercise 2\n",
        "\n",
        "Using the `range` function, create a list containing the numbers from 0 to 10."
      ]
    },
    {
      "cell_type": "code",
      "source": [
        "my_list = list(range(11))\n",
        "print(my_list)"
      ],
      "metadata": {
        "colab": {
          "base_uri": "https://localhost:8080/"
        },
        "id": "OqEbIPywPstA",
        "outputId": "5e2a9d61-95b5-41cb-9ac5-42cb6b6c13b5"
      },
      "execution_count": 2,
      "outputs": [
        {
          "output_type": "stream",
          "name": "stdout",
          "text": [
            "[0, 1, 2, 3, 4, 5, 6, 7, 8, 9, 10]\n"
          ]
        }
      ]
    },
    {
      "cell_type": "markdown",
      "metadata": {
        "id": "jla-IvjuLosL"
      },
      "source": [
        "#### Exercise 3\n",
        "\n",
        "Create a list containing the valid grade values, then using `enumerate` in a `for` loop, print out all **indices** and **items** in the list.\n",
        "\n",
        "It should print out:\n",
        "\n",
        "    0   1.0\n",
        "    1   1.25\n",
        "    2   1.5\n",
        "    3   1.75\n",
        "    4   2.0\n",
        "    5   2.25\n",
        "    6   2.5\n",
        "    7   3.0\n",
        "      "
      ]
    },
    {
      "cell_type": "code",
      "source": [
        "grade_values = [1.0, 1.25, 1.5, 1.75, 2.0, 2.25, 2.5, 3.0]\n",
        "for index, grade in enumerate(grade_values):\n",
        "    print(index, ' ', grade)"
      ],
      "metadata": {
        "colab": {
          "base_uri": "https://localhost:8080/"
        },
        "id": "qi9liFyFP1E-",
        "outputId": "6c737e8a-f7f8-45b5-d7e5-c1c3cfaac43f"
      },
      "execution_count": 3,
      "outputs": [
        {
          "output_type": "stream",
          "name": "stdout",
          "text": [
            "0   1.0\n",
            "1   1.25\n",
            "2   1.5\n",
            "3   1.75\n",
            "4   2.0\n",
            "5   2.25\n",
            "6   2.5\n",
            "7   3.0\n"
          ]
        }
      ]
    },
    {
      "cell_type": "markdown",
      "metadata": {
        "id": "PtBgu5xILosL"
      },
      "source": [
        "#### Exercise 4\n",
        "\n",
        "Using Index Slicing, print out the list of grades higher than 2.0"
      ]
    },
    {
      "cell_type": "code",
      "source": [
        "grade_values = [1.0, 1.25, 1.5, 1.75, 2.0, 2.25, 2.5, 3.0]\n",
        "print(grade_values[grade_values.index(2.25):])"
      ],
      "metadata": {
        "colab": {
          "base_uri": "https://localhost:8080/"
        },
        "id": "QUivtC4oP-Kv",
        "outputId": "3b71cf63-62cd-496f-ef9b-5b85be6da6c2"
      },
      "execution_count": 4,
      "outputs": [
        {
          "output_type": "stream",
          "name": "stdout",
          "text": [
            "[2.25, 2.5, 3.0]\n"
          ]
        }
      ]
    },
    {
      "cell_type": "markdown",
      "metadata": {
        "id": "4AjYX9yZLosM"
      },
      "source": [
        "#### Exercise 5\n",
        "\n",
        "Using Index Slicing, print out the list of grades better than 2.0.\n"
      ]
    },
    {
      "cell_type": "code",
      "source": [
        "grade_values = [1.0, 1.25, 1.5, 1.75, 2.0, 2.25, 2.5, 3.0]\n",
        "grades_better_than_2 = [grade for grade in grade_values if grade > 2.0]\n",
        "print(grades_better_than_2)"
      ],
      "metadata": {
        "colab": {
          "base_uri": "https://localhost:8080/"
        },
        "id": "l6W7mecxQBCZ",
        "outputId": "e483f1f7-fd23-4945-bc92-89809c42ddaf"
      },
      "execution_count": 5,
      "outputs": [
        {
          "output_type": "stream",
          "name": "stdout",
          "text": [
            "[2.25, 2.5, 3.0]\n"
          ]
        }
      ]
    },
    {
      "cell_type": "markdown",
      "metadata": {
        "id": "s5rFREoCLosM"
      },
      "source": [
        "#### Exercise 6\n",
        "\n",
        "Using Index Slicing, print out the grades 2.0,2.25,2.5."
      ]
    },
    {
      "cell_type": "code",
      "source": [
        "grade_values = [1.0, 1.25, 1.5, 1.75, 2.0, 2.25, 2.5, 3.0]\n",
        "\n",
        "index_2_0 = grade_values.index(2.0)\n",
        "index_2_25 = grade_values.index(2.25)\n",
        "index_2_5 = grade_values.index(2.5)\n",
        "\n",
        "print(grade_values[index_2_0:index_2_5 + 1])"
      ],
      "metadata": {
        "colab": {
          "base_uri": "https://localhost:8080/"
        },
        "id": "220yzlsuQHp1",
        "outputId": "bdfbab6d-0d5c-4aec-ba81-723ec387a667"
      },
      "execution_count": 6,
      "outputs": [
        {
          "output_type": "stream",
          "name": "stdout",
          "text": [
            "[2.0, 2.25, 2.5]\n"
          ]
        }
      ]
    },
    {
      "cell_type": "markdown",
      "metadata": {
        "id": "Gzowuc8jLosM"
      },
      "source": [
        "## CHALLENGE\n",
        "\n",
        "Modify the code in the subheading [Parsing Lines](#ParsingLines) to display all the time stamps\n",
        "of the emails in mboxt-short.txt\n"
      ]
    },
    {
      "cell_type": "code",
      "source": [
        "from google.colab import drive\n",
        "drive.mount('/content/drive')"
      ],
      "metadata": {
        "colab": {
          "base_uri": "https://localhost:8080/"
        },
        "id": "DYeL7Lv5QWeJ",
        "outputId": "f50b0462-4803-466b-fcc7-6c2c12db4001"
      },
      "execution_count": 7,
      "outputs": [
        {
          "output_type": "stream",
          "name": "stdout",
          "text": [
            "Mounted at /content/drive\n"
          ]
        }
      ]
    },
    {
      "cell_type": "code",
      "source": [
        "%cd drive/MyDrive"
      ],
      "metadata": {
        "colab": {
          "base_uri": "https://localhost:8080/"
        },
        "id": "pFrlj87lQb0C",
        "outputId": "a03c44a5-138e-4b70-ef74-db95cbcce102"
      },
      "execution_count": 8,
      "outputs": [
        {
          "output_type": "stream",
          "name": "stdout",
          "text": [
            "/content/drive/MyDrive\n"
          ]
        }
      ]
    },
    {
      "cell_type": "code",
      "source": [
        "!pwd"
      ],
      "metadata": {
        "colab": {
          "base_uri": "https://localhost:8080/"
        },
        "id": "c3tqdVG5Qc0D",
        "outputId": "14de0f74-35f5-44a0-b6b3-2d64c98b42a9"
      },
      "execution_count": 9,
      "outputs": [
        {
          "output_type": "stream",
          "name": "stdout",
          "text": [
            "/content/drive/MyDrive\n"
          ]
        }
      ]
    },
    {
      "cell_type": "code",
      "source": [
        "with open('mbox-short.txt') as fhand:\n",
        "    for line in fhand:\n",
        "        line = line.strip()\n",
        "        if line.startswith('From '):\n",
        "            words = line.split()\n",
        "            print(words[5])"
      ],
      "metadata": {
        "colab": {
          "base_uri": "https://localhost:8080/"
        },
        "id": "Uiai22VtQlmK",
        "outputId": "bbfa8b02-91be-4f5d-8002-a22c6cda427b"
      },
      "execution_count": 10,
      "outputs": [
        {
          "output_type": "stream",
          "name": "stdout",
          "text": [
            "09:14:16\n",
            "18:10:48\n",
            "16:10:39\n",
            "15:46:24\n",
            "15:03:18\n",
            "14:50:18\n",
            "11:37:30\n",
            "11:35:08\n",
            "11:12:37\n",
            "11:11:52\n",
            "11:11:03\n",
            "11:10:22\n",
            "10:38:42\n",
            "10:17:43\n",
            "10:04:14\n",
            "09:05:31\n",
            "07:02:32\n",
            "06:08:27\n",
            "04:49:08\n",
            "04:33:44\n",
            "04:07:34\n",
            "19:51:21\n",
            "17:18:23\n",
            "17:07:00\n",
            "16:34:40\n",
            "16:29:07\n",
            "16:23:48\n"
          ]
        }
      ]
    }
  ]
}