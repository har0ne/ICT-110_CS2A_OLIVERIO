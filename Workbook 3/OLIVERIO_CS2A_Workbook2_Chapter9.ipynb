{
  "nbformat": 4,
  "nbformat_minor": 0,
  "metadata": {
    "colab": {
      "provenance": []
    },
    "kernelspec": {
      "name": "python3",
      "display_name": "Python 3"
    },
    "language_info": {
      "name": "python"
    }
  },
  "cells": [
    {
      "cell_type": "markdown",
      "metadata": {
        "id": "Gg2I0RGGLosV"
      },
      "source": [
        "## EXERCISES"
      ]
    },
    {
      "cell_type": "markdown",
      "metadata": {
        "id": "t6n-zN2wLosV"
      },
      "source": [
        "#### Exercise 1\n",
        "\n",
        "Create a dictionary with the following keys and values showing a partial list of Real GDP growth in Annual percent change from IMF (Source: http://www.imf.org/external/datamapper/NGDP_RPCH@WEO/OEMDC/ADVEC/WEOWORLD)\n",
        "\n",
        "    China 6.5\n",
        "    Japan 0.7\n",
        "    Philippines 6.7\n",
        "    United States 2.3\n",
        "    "
      ]
    },
    {
      "cell_type": "code",
      "source": [
        "gdp_growth = {\n",
        "    'China': 6.5,\n",
        "    'Japan': 0.7,\n",
        "    'Philippines': 6.7,\n",
        "    'United States': 2.3}\n",
        "print(gdp_growth)"
      ],
      "metadata": {
        "colab": {
          "base_uri": "https://localhost:8080/"
        },
        "id": "OC65FQNWVacE",
        "outputId": "615dc50e-985c-4e60-e510-305039a25b17"
      },
      "execution_count": 1,
      "outputs": [
        {
          "output_type": "stream",
          "name": "stdout",
          "text": [
            "{'China': 6.5, 'Japan': 0.7, 'Philippines': 6.7, 'United States': 2.3}\n"
          ]
        }
      ]
    },
    {
      "cell_type": "markdown",
      "metadata": {
        "id": "qrv9v5V5LosV"
      },
      "source": [
        "#### Exercise 2\n",
        "\n",
        "Display all the keys and values from the dictionary you created above\n"
      ]
    },
    {
      "cell_type": "code",
      "source": [
        "print(\"Keys:\")\n",
        "for key in gdp_growth.keys():\n",
        "    print(key)\n",
        "\n",
        "print(\"\\nValues:\")\n",
        "for value in gdp_growth.values():\n",
        "    print(value)"
      ],
      "metadata": {
        "colab": {
          "base_uri": "https://localhost:8080/"
        },
        "id": "Cg9XDk0eWHzT",
        "outputId": "b2ecbbeb-f2e5-49fe-8ba4-35c0603243fa"
      },
      "execution_count": 2,
      "outputs": [
        {
          "output_type": "stream",
          "name": "stdout",
          "text": [
            "Keys:\n",
            "China\n",
            "Japan\n",
            "Philippines\n",
            "United States\n",
            "\n",
            "Values:\n",
            "6.5\n",
            "0.7\n",
            "6.7\n",
            "2.3\n"
          ]
        }
      ]
    },
    {
      "cell_type": "markdown",
      "metadata": {
        "id": "Y8_HRcrILosV"
      },
      "source": [
        "#### Exercise 3\n",
        "\n",
        "Write a program that asks the user to enter a line of text and then counts the number of each word that appeared in the line of text.\n",
        "Use the string function `split()` to make a list of words from a given string\n",
        "e.g.:\n",
        "\n",
        "```python\n",
        "word_list = line.split()\n",
        "```\n",
        "\n",
        "will return a list of words from the string `line` and store it in the variable `word_list`.\n",
        "\n",
        "\n",
        "(Adapted from [PES])"
      ]
    },
    {
      "cell_type": "code",
      "source": [
        "def count_words(line):\n",
        "    word_list = line.split()\n",
        "    word_count = {}\n",
        "\n",
        "    for word in word_list:\n",
        "        if word in word_count:\n",
        "            word_count[word] += 1\n",
        "        else:\n",
        "            word_count[word] = 1\n",
        "\n",
        "    return word_count\n",
        "\n",
        "def main():\n",
        "    line = input(\"Enter a line of text: \")\n",
        "    word_count = count_words(line)\n",
        "\n",
        "    print(\"\\nWord count:\")\n",
        "    for word, count in word_count.items():\n",
        "        print(f\"{word}: {count}\")\n",
        "\n",
        "main()"
      ],
      "metadata": {
        "colab": {
          "base_uri": "https://localhost:8080/"
        },
        "id": "Ml587UqJWnaH",
        "outputId": "ded0096a-3fd0-41a9-968d-36758598a063"
      },
      "execution_count": 6,
      "outputs": [
        {
          "output_type": "stream",
          "name": "stdout",
          "text": [
            "Enter a line of text: Dapat mo nang malaman na wala lang ang mga sinasabi ng makakating labi At bababaero pangalan ko sa kwento Nilang walang pruweba puro lamang imbento Oh bababaero bababaero bababaero daw ako 'Di naman totoo yeah hindi naman totoo 'di naman totoo\n",
            "\n",
            "Word count:\n",
            "Dapat: 1\n",
            "mo: 1\n",
            "nang: 1\n",
            "malaman: 1\n",
            "na: 1\n",
            "wala: 1\n",
            "lang: 1\n",
            "ang: 1\n",
            "mga: 1\n",
            "sinasabi: 1\n",
            "ng: 1\n",
            "makakating: 1\n",
            "labi: 1\n",
            "At: 1\n",
            "bababaero: 4\n",
            "pangalan: 1\n",
            "ko: 1\n",
            "sa: 1\n",
            "kwento: 1\n",
            "Nilang: 1\n",
            "walang: 1\n",
            "pruweba: 1\n",
            "puro: 1\n",
            "lamang: 1\n",
            "imbento: 1\n",
            "Oh: 1\n",
            "daw: 1\n",
            "ako: 1\n",
            "'Di: 1\n",
            "naman: 3\n",
            "totoo: 3\n",
            "yeah: 1\n",
            "hindi: 1\n",
            "'di: 1\n"
          ]
        }
      ]
    }
  ]
}