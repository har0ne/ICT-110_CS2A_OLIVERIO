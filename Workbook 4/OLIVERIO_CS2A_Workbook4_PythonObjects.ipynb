{
  "nbformat": 4,
  "nbformat_minor": 0,
  "metadata": {
    "colab": {
      "provenance": []
    },
    "kernelspec": {
      "name": "python3",
      "display_name": "Python 3"
    },
    "language_info": {
      "name": "python"
    }
  },
  "cells": [
    {
      "cell_type": "markdown",
      "metadata": {
        "id": "eyeSEEkx_9nJ"
      },
      "source": [
        "## REVIEW"
      ]
    },
    {
      "cell_type": "markdown",
      "metadata": {
        "id": "uB1AZCiu_9nJ"
      },
      "source": [
        "1.  Make sure you are familiar with the meaning of the following terms (and the difference among some of them)\n",
        "    - class vs. object vs. instance\n",
        "    - method vs. function\n",
        "    - attribute vs. variable\n",
        "\n",
        "\n",
        "2. Explain the difference in focus and approach of procedural and OOP paradigms\n",
        "\n",
        "\n",
        "3. Explain the advantage of using a class over using modules which only contain a collection of data and functions\n",
        "\n",
        "\n",
        "[あ]"
      ]
    },
    {
      "cell_type": "markdown",
      "source": [
        "REVIEW\n",
        "\n",
        "1.\n",
        "\n",
        "* **class vs. object vs. instance**\n",
        "\n",
        "Class: A class is a blueprint or template for creating objects. It defines the attributes and methods that objects will have but does not contain actual data or behavior.\n",
        "\n",
        "Object: An object is a specific instance of a class. It is created based on the blueprint provided by the class and contains actual data and behavior as defined by the class.\n",
        "\n",
        "Instance: It is often used synonymously with \"object.\" It emphasizes the idea that each object is a unique occurrence of a class, with its own set of data and behavior. However, in specific situations, it may refer specifically to a single occurrence or realization of an object at runtime.\n",
        "\n",
        "\n",
        "* **method vs. function**\n",
        "\n",
        "Function: A function is a block of code that performs a specific task or operation. It can be defined outside of classes and can operate on any data passed to it.\n",
        "\n",
        "Method: A method is a function that is associated with an object and is defined within a class. It operates on the data contained within the object and can access or modify its attributes.\n",
        "\n",
        "\n",
        "While both of them perform tasks, methods are specifically tied to objects and are invoked on those objects.Meanwhile, functions are standalone blocks of code that can operate independently.\n",
        "\n",
        "* **attribute vs. variable**\n",
        "\n",
        "Attribute: An attribute is a piece of data associated with an object. It represents the state or characteristics of that object and is accessed using dot notation. They are defined within classes and are specific to instances of those classes.\n",
        "\n",
        "Variable: A variable is a named storage location that holds a value. In the context of object-oriented programming, a variable can refer to either a class-level variable or an instance-level variable. Furthermore, they are not tied to objects and can exist independently outside of classes."
      ],
      "metadata": {
        "id": "E00K3LDLUlZf"
      }
    },
    {
      "cell_type": "markdown",
      "source": [
        "\n",
        "\n",
        "2.\n",
        "\n",
        "* **Procedural programming** centers around writing functions or procedures that operate on data. The approach is straightforward: the program's logic is divided into functions, which manipulate data using control structures like loops and conditionals. Data is typically organized into variables and data structures, and functions manipulate this data directly.\n",
        "\n",
        "* **Object-oriented programming (OOP)** shifts the focus to creating objects that encapsulate both data and behavior. Here, code is organized into classes and objects, where each object represents a specific instance of a class. Objects contain attributes (data) and methods (functions) that operate on that data. This approach promotes modularity, reusability, and maintainability of code."
      ],
      "metadata": {
        "id": "erzT38JUWHyT"
      }
    },
    {
      "cell_type": "markdown",
      "source": [
        "3.  Using classes over modules with only data and functions provides several advantages. Firstly, classes encapsulate both data and behavior into a single unit, promoting code organization and clarity. Secondly, classes support abstraction by hiding implementation details behind well-defined interfaces, simplifying the usage of complex systems. Additionally, classes enable inheritance and polymorphism, facilitating code reuse and modularity. Furthermore, classes allow for the creation of multiple instances with unique characteristics and behaviors, enhancing flexibility and modeling capabilities. Lastly, classes provide namespace management, preventing naming conflicts and promoting code clarity, particularly in large projects with multiple contributors."
      ],
      "metadata": {
        "id": "ySIILRoXYN66"
      }
    }
  ]
}