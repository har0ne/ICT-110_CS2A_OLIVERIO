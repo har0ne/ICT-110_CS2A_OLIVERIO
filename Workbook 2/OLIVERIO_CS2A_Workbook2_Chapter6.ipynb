{
  "nbformat": 4,
  "nbformat_minor": 0,
  "metadata": {
    "colab": {
      "provenance": []
    },
    "kernelspec": {
      "name": "python3",
      "display_name": "Python 3"
    },
    "language_info": {
      "name": "python"
    }
  },
  "cells": [
    {
      "cell_type": "markdown",
      "metadata": {
        "id": "zbAetXNnz-Ye"
      },
      "source": [
        "## EXERCISES"
      ]
    },
    {
      "cell_type": "markdown",
      "metadata": {
        "id": "_atnrFDkz-Ye"
      },
      "source": [
        "#### Exercise 1"
      ]
    },
    {
      "cell_type": "markdown",
      "metadata": {
        "id": "UuvXG5t5z-Ye"
      },
      "source": [
        "Given the code below    \n",
        "\n",
        "    text = 'Business Analytics'\n",
        "\n",
        "What will the following expressions produce?\n",
        "    \n",
        "    text[4]\n",
        "    text[2:4]\n",
        "    text[:4]\n",
        "    text[4:]\n",
        "    text[-2]\n",
        "    text[-4:-2]\n",
        "    text[-2:]\n",
        "    text[:-2]\n",
        "    "
      ]
    },
    {
      "cell_type": "code",
      "source": [
        "text = 'Business Analytics'\n",
        "text[4] #This gives the character at index 4, which is 'n'\n",
        "text[2:4] #This gives the characters from index 2 to index 3, and excluding index 4. The output is 'si'\n",
        "text[:4] #This gives the characters from the beginning up to index 3 and excluding index 4. This line's output is 'Busi'\n",
        "text[4:] #This gives the characters from index 4 till the end, which are 'ness Analytics'\n",
        "text[-2] #This gives the second-to-last character, which is 'c'\n",
        "text[-4:-2] #This gives the characters from the fourth-to-last character up to the second-to-last character. This line's output is 'ti'\n",
        "text[-2:] #This gives the last two characters, which are 'cs'\n",
        "text[:-2] # Returns all characters except the last two, which is 'Business Analyti'"
      ],
      "metadata": {
        "colab": {
          "base_uri": "https://localhost:8080/",
          "height": 36
        },
        "id": "TumEMfi8bxas",
        "outputId": "a48c4e4c-4769-4775-9e43-cd2fc616bcff"
      },
      "execution_count": null,
      "outputs": [
        {
          "output_type": "execute_result",
          "data": {
            "text/plain": [
              "'Business Analyti'"
            ],
            "application/vnd.google.colaboratory.intrinsic+json": {
              "type": "string"
            }
          },
          "metadata": {},
          "execution_count": 13
        }
      ]
    },
    {
      "cell_type": "markdown",
      "metadata": {
        "id": "YcovPbFyz-Ye"
      },
      "source": [
        "#### Exercise 2"
      ]
    },
    {
      "cell_type": "markdown",
      "metadata": {
        "id": "A3sH4H9pz-Ye"
      },
      "source": [
        "Given the code below:\n",
        "    \n",
        "    phrase = 'One Ring to rule them all'\n",
        "\n",
        "What string slicing expression gives out the following words:\n",
        "\n",
        "    'One '\n",
        "    'Ring'\n",
        "    'all'\n",
        "    'them'\n",
        "    'One Ring to rule them all'\n",
        "    "
      ]
    },
    {
      "cell_type": "code",
      "source": [
        "phrase = 'One Ring to rule them all'\n",
        "phrase[:3] #'One'.   Slice from the beginning to the space after 'One'\n",
        "phrase[4:8] #'Ring'. Slice from after 'One' to just before 'to'\n",
        "phrase[-3:] #'all'.  Slice from the space after 'them' until the end\n",
        "phrase[17:21] #'them'. Slice from after 'rule' to just before 'all'\n",
        "phrase[:] # 'One Ring to rule them all'. Slicing with no start or end specified makes it so it displays the entire phrase"
      ],
      "metadata": {
        "colab": {
          "base_uri": "https://localhost:8080/",
          "height": 36
        },
        "id": "_pkV1Wybc4UH",
        "outputId": "c97dfb8b-0db5-4585-ad45-e33b8282e451"
      },
      "execution_count": 4,
      "outputs": [
        {
          "output_type": "execute_result",
          "data": {
            "text/plain": [
              "'One Ring to rule them all'"
            ],
            "application/vnd.google.colaboratory.intrinsic+json": {
              "type": "string"
            }
          },
          "metadata": {},
          "execution_count": 4
        }
      ]
    },
    {
      "cell_type": "markdown",
      "metadata": {
        "id": "J6km4Fl1z-Ye"
      },
      "source": [
        "\n",
        "## CHALLENGE\n"
      ]
    },
    {
      "cell_type": "markdown",
      "metadata": {
        "id": "_xC2blEYz-Ye"
      },
      "source": [
        "Write a program which repeatedly reads a **full name**, then does the following:\n",
        "- strips the name of any trailing spaces\n",
        "- capitalizes the first letter\n",
        "- puts the rest into smaller letters\n"
      ]
    },
    {
      "cell_type": "code",
      "source": [
        "while True:\n",
        "    full_name = input(\"Enter a full name: \").strip().capitalize()\n",
        "    if full_name == '':\n",
        "        break\n",
        "    print(\"Formatted Name:\", full_name)\n"
      ],
      "metadata": {
        "colab": {
          "base_uri": "https://localhost:8080/"
        },
        "id": "6Q8MziHNdfNd",
        "outputId": "da602a1f-cc1b-4be6-a8c6-e2dc037335d1"
      },
      "execution_count": 8,
      "outputs": [
        {
          "name": "stdout",
          "output_type": "stream",
          "text": [
            "Enter a full name: aaron\n",
            "Formatted Name: Aaron\n",
            "Enter a full name: aARON\n",
            "Formatted Name: Aaron\n",
            "Enter a full name:          aARON\n",
            "Formatted Name: Aaron\n",
            "Enter a full name: \n"
          ]
        }
      ]
    }
  ]
}