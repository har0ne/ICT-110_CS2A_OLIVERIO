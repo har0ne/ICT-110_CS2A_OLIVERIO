{
  "nbformat": 4,
  "nbformat_minor": 0,
  "metadata": {
    "colab": {
      "provenance": []
    },
    "kernelspec": {
      "name": "python3",
      "display_name": "Python 3"
    },
    "language_info": {
      "name": "python"
    }
  },
  "cells": [
    {
      "cell_type": "markdown",
      "metadata": {
        "id": "zbAetXNnz-Ye"
      },
      "source": [
        "## EXERCISES"
      ]
    },
    {
      "cell_type": "markdown",
      "metadata": {
        "id": "_atnrFDkz-Ye"
      },
      "source": [
        "#### Exercise 1"
      ]
    },
    {
      "cell_type": "markdown",
      "metadata": {
        "id": "UuvXG5t5z-Ye"
      },
      "source": [
        "Given the code below    \n",
        "\n",
        "    text = 'Business Analytics'\n",
        "\n",
        "What will the following expressions produce?\n",
        "    \n",
        "    text[4]\n",
        "    text[2:4]\n",
        "    text[:4]\n",
        "    text[4:]\n",
        "    text[-2]\n",
        "    text[-4:-2]\n",
        "    text[-2:]\n",
        "    text[:-2]\n",
        "    "
      ]
    },
    {
      "cell_type": "code",
      "source": [
        "text = 'Business Analytics'\n",
        "text[4] #This line's output is 'n'\n",
        "text[2:4] #This line's output is 'si'\n",
        "text[:4] #This line's output is 'Busi'\n",
        "text[4:] #This line's output is 'ness Analytics'\n",
        "text[-2] #This line's output is 'c'\n",
        "text[-4:-2] #This line's output is 'ti'\n",
        "text[-2:] #This line's output is 'cs'\n",
        "text[:-2] #This line's output is 'Business Analyti'"
      ],
      "metadata": {
        "colab": {
          "base_uri": "https://localhost:8080/",
          "height": 36
        },
        "id": "TumEMfi8bxas",
        "outputId": "a48c4e4c-4769-4775-9e43-cd2fc616bcff"
      },
      "execution_count": 13,
      "outputs": [
        {
          "output_type": "execute_result",
          "data": {
            "text/plain": [
              "'Business Analyti'"
            ],
            "application/vnd.google.colaboratory.intrinsic+json": {
              "type": "string"
            }
          },
          "metadata": {},
          "execution_count": 13
        }
      ]
    },
    {
      "cell_type": "markdown",
      "metadata": {
        "id": "YcovPbFyz-Ye"
      },
      "source": [
        "#### Exercise 2"
      ]
    },
    {
      "cell_type": "markdown",
      "metadata": {
        "id": "A3sH4H9pz-Ye"
      },
      "source": [
        "Given the code below:\n",
        "    \n",
        "    phrase = 'One Ring to rule them all'\n",
        "\n",
        "What string slicing expression gives out the following words:\n",
        "\n",
        "    'One '\n",
        "    'Ring'\n",
        "    'all'\n",
        "    'them'\n",
        "    'One Ring to rule them all'\n",
        "    "
      ]
    },
    {
      "cell_type": "code",
      "source": [
        "phrase = 'One Ring to rule them all'\n",
        "phrase[:4] #'One '\n",
        "phrase[4:8] #'Ring'\n",
        "phrase[-3:] #'all'\n",
        "phrase[17:21] #'them'\n",
        "phrase[:] # 'One Ring to rule them all'"
      ],
      "metadata": {
        "colab": {
          "base_uri": "https://localhost:8080/",
          "height": 36
        },
        "id": "_pkV1Wybc4UH",
        "outputId": "adf470e8-4303-4ffd-a4c7-8240e950802d"
      },
      "execution_count": 20,
      "outputs": [
        {
          "output_type": "execute_result",
          "data": {
            "text/plain": [
              "'One Ring to rule them all'"
            ],
            "application/vnd.google.colaboratory.intrinsic+json": {
              "type": "string"
            }
          },
          "metadata": {},
          "execution_count": 20
        }
      ]
    },
    {
      "cell_type": "markdown",
      "metadata": {
        "id": "J6km4Fl1z-Ye"
      },
      "source": [
        "\n",
        "## CHALLENGE\n"
      ]
    },
    {
      "cell_type": "markdown",
      "metadata": {
        "id": "_xC2blEYz-Ye"
      },
      "source": [
        "Write a program which repeatedly reads a **full name**, then does the following:\n",
        "- strips the name of any trailing spaces\n",
        "- capitalizes the first letter\n",
        "- puts the rest into smaller letters\n"
      ]
    },
    {
      "cell_type": "code",
      "source": [
        "while True:\n",
        "    full_name = input(\"Enter a full name (or 'q' to quit): \").strip().capitalize()\n",
        "    if full_name.lower() == 'q':\n",
        "        print(\"Exiting the program...\")\n",
        "        break\n",
        "    print(\"Formatted Name:\", full_name)\n"
      ],
      "metadata": {
        "colab": {
          "base_uri": "https://localhost:8080/"
        },
        "id": "6Q8MziHNdfNd",
        "outputId": "9fd428ca-a459-4a71-8b6e-3d0478c3642e"
      },
      "execution_count": 21,
      "outputs": [
        {
          "output_type": "stream",
          "name": "stdout",
          "text": [
            "Enter a full name (or 'q' to quit): Aaron Hans L. Oliverio\n",
            "Formatted Name: Aaron hans l. oliverio\n",
            "Enter a full name (or 'q' to quit): aaron hans oliver io\n",
            "Formatted Name: Aaron hans oliver io\n",
            "Enter a full name (or 'q' to quit): aaron\n",
            "Formatted Name: Aaron\n",
            "Enter a full name (or 'q' to quit): ayp\n",
            "Formatted Name: Ayp\n",
            "Enter a full name (or 'q' to quit): q\n",
            "Exiting the program...\n"
          ]
        }
      ]
    }
  ]
}