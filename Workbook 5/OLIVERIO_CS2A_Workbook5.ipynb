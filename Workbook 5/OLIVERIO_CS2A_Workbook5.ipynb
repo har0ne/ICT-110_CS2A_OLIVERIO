{
  "nbformat": 4,
  "nbformat_minor": 0,
  "metadata": {
    "colab": {
      "provenance": []
    },
    "kernelspec": {
      "name": "python3",
      "display_name": "Python 3"
    },
    "language_info": {
      "name": "python"
    }
  },
  "cells": [
    {
      "cell_type": "markdown",
      "source": [
        "LESSON 2"
      ],
      "metadata": {
        "id": "r_jAToze5Kcr"
      }
    },
    {
      "cell_type": "markdown",
      "metadata": {
        "id": "4b-YS7TeEg_w"
      },
      "source": [
        "### Exercise\n",
        "\n",
        "A. Create an ndarry object (A) with any values from 1 to 100 in a nested Python List. You can choose your range from the given values (1-100).\n",
        "\n",
        "* Given that A is an ndarray object, many functionalities in numpy could be accessed by:\n",
        "    + Make sure to explain each line of codes that you have created.\n",
        "\n",
        "1. Using a property of the ndarray object\n",
        "      - e.g. `A.shape`\n",
        "2. Using a method of the ndarray object\n",
        "      - e.g. `A.max()`\n",
        "3. Using a numpy function and passing an ndarray\n",
        "     - e.g. `np.max(A)`"
      ]
    },
    {
      "cell_type": "code",
      "source": [
        "#import numpy library\n",
        "import numpy as np\n",
        "\n",
        "# create a nested list containing values from 1 to 10(1 to 10 is my chosen range from the given values of 1-100), then it is repeated 10 times\n",
        "nested_list = [[i for i in range(1, 11)] for _ in range(10)]\n",
        "\n",
        "# convert the nested list to a numpy array\n",
        "A = np.array(nested_list)\n",
        "\n",
        "# access the shape property of the ndarray object A\n",
        "shape_of_A = A.shape\n",
        "\n",
        "# find the max value using max() method\n",
        "max_of_A = A.max()\n",
        "\n",
        "# find the max value using np.max() function\n",
        "max_of_A_using_np = np.max(A)\n",
        "\n",
        "# display\n",
        "print(A)\n",
        "print(\"\\nShape of A:\", shape_of_A)\n",
        "print(\"\\nMaximum value in A:\", max_of_A)\n",
        "print(\"\\nMaximum value in A using np.max:\", max_of_A_using_np)"
      ],
      "metadata": {
        "colab": {
          "base_uri": "https://localhost:8080/"
        },
        "id": "HmRTiSGnmFHI",
        "outputId": "a57be46d-4770-4abe-ccc9-5fe60e9d2bc0"
      },
      "execution_count": 85,
      "outputs": [
        {
          "output_type": "stream",
          "name": "stdout",
          "text": [
            "[[ 1  2  3  4  5  6  7  8  9 10]\n",
            " [ 1  2  3  4  5  6  7  8  9 10]\n",
            " [ 1  2  3  4  5  6  7  8  9 10]\n",
            " [ 1  2  3  4  5  6  7  8  9 10]\n",
            " [ 1  2  3  4  5  6  7  8  9 10]\n",
            " [ 1  2  3  4  5  6  7  8  9 10]\n",
            " [ 1  2  3  4  5  6  7  8  9 10]\n",
            " [ 1  2  3  4  5  6  7  8  9 10]\n",
            " [ 1  2  3  4  5  6  7  8  9 10]\n",
            " [ 1  2  3  4  5  6  7  8  9 10]]\n",
            "\n",
            "Shape of A: (10, 10)\n",
            "\n",
            "Maximum value in A: 10\n",
            "\n",
            "Maximum value in A using np.max: 10\n"
          ]
        }
      ]
    },
    {
      "cell_type": "markdown",
      "source": [
        "B. Create a 5x5 integer-array filled with ones.\n",
        "* Check its shape, size, and number of dimensions. Explain briefly the codes you have created by writing a comment beside the code."
      ],
      "metadata": {
        "id": "42cuiIAeb0ii"
      }
    },
    {
      "cell_type": "code",
      "source": [
        "#import numpy library\n",
        "import numpy as np\n",
        "\n",
        "# this creates a 5x5 array of only ones\n",
        "ones_array = np.ones((5, 5), dtype=int)\n",
        "\n",
        "# Check shape, size, and number of dimensions\n",
        "\n",
        "# itretrieves the shape of the array and assigns it to shape\n",
        "shape = ones_array.shape\n",
        "\n",
        "# it retrieves the total number of elements in the array and assigns it to  size\n",
        "size = ones_array.size\n",
        "\n",
        "# it retrieves the number of dimensions of the array and assigns it to ndim\n",
        "ndim = ones_array.ndim\n",
        "\n",
        "\n",
        "# display\n",
        "print(ones_array)\n",
        "print(\"\\nShape:\", shape)\n",
        "print(\"\\nSize:\", size)\n",
        "print(\"\\nNumber of Dimensions:\", ndim)\n"
      ],
      "metadata": {
        "id": "-DQuhk4vqPBj",
        "colab": {
          "base_uri": "https://localhost:8080/"
        },
        "outputId": "787bb6a5-cc3c-4622-aaeb-501219cb56e0"
      },
      "execution_count": 46,
      "outputs": [
        {
          "output_type": "stream",
          "name": "stdout",
          "text": [
            "[[1 1 1 1 1]\n",
            " [1 1 1 1 1]\n",
            " [1 1 1 1 1]\n",
            " [1 1 1 1 1]\n",
            " [1 1 1 1 1]]\n",
            "\n",
            "Shape: (5, 5)\n",
            "\n",
            "Size: 25\n",
            "\n",
            "Number of Dimensions: 2\n"
          ]
        }
      ]
    },
    {
      "cell_type": "markdown",
      "source": [
        "C. Create an array of values from -5 to + 5. Multiply each value with 2. Print the resulting array."
      ],
      "metadata": {
        "id": "8eAenEmXb2QM"
      }
    },
    {
      "cell_type": "code",
      "source": [
        "#import numpy library\n",
        "import numpy as np\n",
        "\n",
        "# create an array of values from -5 to +5\n",
        "values = np.array(range(-5, 6))\n",
        "\n",
        "# this multiplies each value by 2\n",
        "result_array = values * 2\n",
        "\n",
        "# display\n",
        "print(\"Output:\", result_array)"
      ],
      "metadata": {
        "colab": {
          "base_uri": "https://localhost:8080/"
        },
        "id": "eskiorqPsZBw",
        "outputId": "3b84bdc6-288f-4423-a329-d6eafba9913d"
      },
      "execution_count": 86,
      "outputs": [
        {
          "output_type": "stream",
          "name": "stdout",
          "text": [
            "Output: [-10  -8  -6  -4  -2   0   2   4   6   8  10]\n"
          ]
        }
      ]
    },
    {
      "cell_type": "markdown",
      "metadata": {
        "id": "ZZpsNuHYEg_6"
      },
      "source": [
        "### Exercise\n",
        "\n",
        "A. Choose the values from the range of numbers 1 to 100.\n",
        "1. Create an array with 30 values within the range of numbers given. You can choose your own start value and stop value. However, the incrementing value will be 2.\n",
        "   * Explain what is the result briefly by writing a comment before the code.\n",
        "2. Multiply the resulting array with 3. Print the result."
      ]
    },
    {
      "cell_type": "code",
      "source": [
        "#import numpy library\n",
        "import numpy as np\n",
        "\n",
        "# it starts from 2 and ends at 62 to have 30 values with an increment of 2\n",
        "# actual result before multiplication [ 2  4  6  8 10 12 14 16 18 20 22 24 26 28 30 32 34 36 38 40 42 44 46 48 50 52 54 56 58 60]\n",
        "array = np.arange(2, 62, 2)\n",
        "\n",
        "# multiply the resulting array by 3\n",
        "array *= 3\n",
        "\n",
        "# disaply\n",
        "print(array)"
      ],
      "metadata": {
        "colab": {
          "base_uri": "https://localhost:8080/"
        },
        "id": "nlOu1bkktyK5",
        "outputId": "40ec216f-05c9-42e6-b05e-8f3bb41610e4"
      },
      "execution_count": 89,
      "outputs": [
        {
          "output_type": "stream",
          "name": "stdout",
          "text": [
            "[  6  12  18  24  30  36  42  48  54  60  66  72  78  84  90  96 102 108\n",
            " 114 120 126 132 138 144 150 156 162 168 174 180]\n"
          ]
        }
      ]
    },
    {
      "cell_type": "markdown",
      "metadata": {
        "id": "a0fwbujzEhAC"
      },
      "source": [
        "### Exercise\n",
        "\n",
        "A. Create a four-dimensional array of random integers in the interval [0, 12]. Print the result.\n",
        "1. Get the dimensions, shape, and size.\n",
        "    * Explain what is the result briefly by writing a comment before the code.\n",
        "\n",
        "B. Get the maximum number for each dimensions and display it.\n",
        "   * Explain what is the result briefly by writing a comment before the code.\n",
        "\n",
        "C. Multipy each array with 4. What is its result?\n",
        "    * Write a brief explanation on the multiplication process.\n"
      ]
    },
    {
      "cell_type": "code",
      "source": [
        "#import numpy library\n",
        "import numpy as np\n",
        "\n",
        "# creates a four-dimensional array of random integers between 0 and 12. ( 2 layers, 3 rows, 4 columns, 5 elements)\n",
        "four_d_array = np.random.randint(0, 13, size=(2, 3, 4, 5))\n",
        "\n",
        "# finding the max for each dimension\n",
        "max = np.max(four_d_array, axis=(0, 1, 2, 3))\n",
        "\n",
        "# it multiplies each array element by 4\n",
        "multiplied_array = four_d_array * 4\n",
        "\n",
        "#display the four-dimensional array | getting the dimensions, shape, size, and max number for each dimension\n",
        "print(multiplied_array)\n",
        "print(\"\\nDimensions:\", multiplied_array.ndim)\n",
        "print(\"\\nShape:\", multiplied_array.shape)\n",
        "print(\"\\nSize:\", multiplied_array.size)\n",
        "print(\"\\nMaximum number for each dimension:\", max)"
      ],
      "metadata": {
        "colab": {
          "base_uri": "https://localhost:8080/"
        },
        "id": "YKhivPXsySLM",
        "outputId": "ccdee700-5ad0-473f-8159-b4abd481bf5a"
      },
      "execution_count": 91,
      "outputs": [
        {
          "output_type": "stream",
          "name": "stdout",
          "text": [
            "[[[[36 40 44 12 12]\n",
            "   [28 32 16 48  0]\n",
            "   [ 0  8  0 28 48]\n",
            "   [12 36 28  0 24]]\n",
            "\n",
            "  [[ 8 24  4 40 36]\n",
            "   [28 28 24 20 24]\n",
            "   [ 0 20 24 36 40]\n",
            "   [ 0 40 36 44 32]]\n",
            "\n",
            "  [[20 48 28 48 16]\n",
            "   [ 4 48 44 48 12]\n",
            "   [20  0 20  0 32]\n",
            "   [36 36 44 12 32]]]\n",
            "\n",
            "\n",
            " [[[24  8  4 36  4]\n",
            "   [12 44 44 28  4]\n",
            "   [16 44  0  4  8]\n",
            "   [28 32  4 44 48]]\n",
            "\n",
            "  [[12 36 40 36 16]\n",
            "   [ 8 40 16  0 32]\n",
            "   [24 40  4 16  8]\n",
            "   [ 8 24 20 44 16]]\n",
            "\n",
            "  [[ 8 48 20 44 44]\n",
            "   [12 40  4 12 44]\n",
            "   [20 32 28  4 40]\n",
            "   [16 16 12 20 36]]]]\n",
            "\n",
            "Dimensions: 4\n",
            "\n",
            "Shape: (2, 3, 4, 5)\n",
            "\n",
            "Size: 120\n",
            "\n",
            "Maximum number for each dimension: 12\n"
          ]
        }
      ]
    }
  ]
}